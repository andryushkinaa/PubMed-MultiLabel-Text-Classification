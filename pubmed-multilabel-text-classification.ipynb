{
 "cells": [
  {
   "cell_type": "code",
   "execution_count": 1,
   "id": "e6445c17",
   "metadata": {
    "_cell_guid": "b1076dfc-b9ad-4769-8c92-a6c4dae69d19",
    "_uuid": "8f2839f25d086af736a60e9eeb907d3b93b6e0e5",
    "execution": {
     "iopub.execute_input": "2025-09-15T15:04:43.479755Z",
     "iopub.status.busy": "2025-09-15T15:04:43.479337Z",
     "iopub.status.idle": "2025-09-15T15:04:47.327987Z",
     "shell.execute_reply": "2025-09-15T15:04:47.326981Z"
    },
    "papermill": {
     "duration": 3.855877,
     "end_time": "2025-09-15T15:04:47.329678",
     "exception": false,
     "start_time": "2025-09-15T15:04:43.473801",
     "status": "completed"
    },
    "tags": []
   },
   "outputs": [
    {
     "name": "stdout",
     "output_type": "stream",
     "text": [
      "/kaggle/input/pubmed-multilabel-text-classification/PubMed Multi Label Text Classification Dataset Processed.csv\n",
      "/kaggle/input/pubmed-multilabel-text-classification/PubMed Multi Label Text Classification Dataset.csv\n"
     ]
    }
   ],
   "source": [
    "import numpy as np\n",
    "import pandas as pd\n",
    "import seaborn as sns\n",
    "import matplotlib.pyplot as plt\n",
    "\n",
    "import os\n",
    "for dirname, _, filenames in os.walk('/kaggle/input'):\n",
    "    for filename in filenames:\n",
    "        print(os.path.join(dirname, filename))"
   ]
  },
  {
   "cell_type": "code",
   "execution_count": 2,
   "id": "d0f7b5bc",
   "metadata": {
    "execution": {
     "iopub.execute_input": "2025-09-15T15:04:47.338997Z",
     "iopub.status.busy": "2025-09-15T15:04:47.338147Z",
     "iopub.status.idle": "2025-09-15T15:04:50.734926Z",
     "shell.execute_reply": "2025-09-15T15:04:50.733811Z"
    },
    "papermill": {
     "duration": 3.402737,
     "end_time": "2025-09-15T15:04:50.736477",
     "exception": false,
     "start_time": "2025-09-15T15:04:47.333740",
     "status": "completed"
    },
    "tags": []
   },
   "outputs": [
    {
     "name": "stdout",
     "output_type": "stream",
     "text": [
      "Размер данных: (50000, 20)\n",
      "\n",
      "Первые 5 строк:\n"
     ]
    },
    {
     "data": {
      "text/html": [
       "<div>\n",
       "<style scoped>\n",
       "    .dataframe tbody tr th:only-of-type {\n",
       "        vertical-align: middle;\n",
       "    }\n",
       "\n",
       "    .dataframe tbody tr th {\n",
       "        vertical-align: top;\n",
       "    }\n",
       "\n",
       "    .dataframe thead th {\n",
       "        text-align: right;\n",
       "    }\n",
       "</style>\n",
       "<table border=\"1\" class=\"dataframe\">\n",
       "  <thead>\n",
       "    <tr style=\"text-align: right;\">\n",
       "      <th></th>\n",
       "      <th>Title</th>\n",
       "      <th>abstractText</th>\n",
       "      <th>meshMajor</th>\n",
       "      <th>pmid</th>\n",
       "      <th>meshid</th>\n",
       "      <th>meshroot</th>\n",
       "      <th>A</th>\n",
       "      <th>B</th>\n",
       "      <th>C</th>\n",
       "      <th>D</th>\n",
       "      <th>E</th>\n",
       "      <th>F</th>\n",
       "      <th>G</th>\n",
       "      <th>H</th>\n",
       "      <th>I</th>\n",
       "      <th>J</th>\n",
       "      <th>L</th>\n",
       "      <th>M</th>\n",
       "      <th>N</th>\n",
       "      <th>Z</th>\n",
       "    </tr>\n",
       "  </thead>\n",
       "  <tbody>\n",
       "    <tr>\n",
       "      <th>0</th>\n",
       "      <td>Expression of p53 and coexistence of HPV in pr...</td>\n",
       "      <td>Fifty-four paraffin embedded tissue sections f...</td>\n",
       "      <td>['DNA Probes, HPV', 'DNA, Viral', 'Female', 'H...</td>\n",
       "      <td>8549602</td>\n",
       "      <td>[['D13.444.600.223.555', 'D27.505.259.750.600....</td>\n",
       "      <td>['Chemicals and Drugs [D]', 'Organisms [B]', '...</td>\n",
       "      <td>0</td>\n",
       "      <td>1</td>\n",
       "      <td>1</td>\n",
       "      <td>1</td>\n",
       "      <td>1</td>\n",
       "      <td>0</td>\n",
       "      <td>0</td>\n",
       "      <td>1</td>\n",
       "      <td>0</td>\n",
       "      <td>0</td>\n",
       "      <td>0</td>\n",
       "      <td>0</td>\n",
       "      <td>0</td>\n",
       "      <td>0</td>\n",
       "    </tr>\n",
       "    <tr>\n",
       "      <th>1</th>\n",
       "      <td>Vitamin D status in pregnant Indian women acro...</td>\n",
       "      <td>The present cross-sectional study was conducte...</td>\n",
       "      <td>['Adult', 'Alkaline Phosphatase', 'Breast Feed...</td>\n",
       "      <td>21736816</td>\n",
       "      <td>[['M01.060.116'], ['D08.811.277.352.650.035'],...</td>\n",
       "      <td>['Named Groups [M]', 'Chemicals and Drugs [D]'...</td>\n",
       "      <td>0</td>\n",
       "      <td>1</td>\n",
       "      <td>1</td>\n",
       "      <td>1</td>\n",
       "      <td>1</td>\n",
       "      <td>1</td>\n",
       "      <td>1</td>\n",
       "      <td>0</td>\n",
       "      <td>1</td>\n",
       "      <td>1</td>\n",
       "      <td>0</td>\n",
       "      <td>1</td>\n",
       "      <td>1</td>\n",
       "      <td>1</td>\n",
       "    </tr>\n",
       "    <tr>\n",
       "      <th>2</th>\n",
       "      <td>[Identification of a functionally important di...</td>\n",
       "      <td>The occurrence of individual amino acids and d...</td>\n",
       "      <td>['Amino Acid Sequence', 'Analgesics, Opioid', ...</td>\n",
       "      <td>19060934</td>\n",
       "      <td>[['G02.111.570.060', 'L01.453.245.667.060'], [...</td>\n",
       "      <td>['Phenomena and Processes [G]', 'Information S...</td>\n",
       "      <td>1</td>\n",
       "      <td>1</td>\n",
       "      <td>0</td>\n",
       "      <td>1</td>\n",
       "      <td>1</td>\n",
       "      <td>0</td>\n",
       "      <td>1</td>\n",
       "      <td>0</td>\n",
       "      <td>0</td>\n",
       "      <td>0</td>\n",
       "      <td>1</td>\n",
       "      <td>0</td>\n",
       "      <td>0</td>\n",
       "      <td>0</td>\n",
       "    </tr>\n",
       "    <tr>\n",
       "      <th>3</th>\n",
       "      <td>Multilayer capsules: a promising microencapsul...</td>\n",
       "      <td>In 1980, Lim and Sun introduced a microcapsule...</td>\n",
       "      <td>['Acrylic Resins', 'Alginates', 'Animals', 'Bi...</td>\n",
       "      <td>11426874</td>\n",
       "      <td>[['D05.750.716.822.111', 'D25.720.716.822.111'...</td>\n",
       "      <td>['Chemicals and Drugs [D]', 'Technology, Indus...</td>\n",
       "      <td>1</td>\n",
       "      <td>1</td>\n",
       "      <td>1</td>\n",
       "      <td>1</td>\n",
       "      <td>1</td>\n",
       "      <td>0</td>\n",
       "      <td>1</td>\n",
       "      <td>0</td>\n",
       "      <td>0</td>\n",
       "      <td>1</td>\n",
       "      <td>0</td>\n",
       "      <td>0</td>\n",
       "      <td>0</td>\n",
       "      <td>0</td>\n",
       "    </tr>\n",
       "    <tr>\n",
       "      <th>4</th>\n",
       "      <td>Nanohydrogel with N,N'-bis(acryloyl)cystine cr...</td>\n",
       "      <td>Substantially improved hydrogel particles base...</td>\n",
       "      <td>['Antineoplastic Agents', 'Cell Proliferation'...</td>\n",
       "      <td>28323099</td>\n",
       "      <td>[['D27.505.954.248'], ['G04.161.750', 'G07.345...</td>\n",
       "      <td>['Chemicals and Drugs [D]', 'Phenomena and Pro...</td>\n",
       "      <td>1</td>\n",
       "      <td>1</td>\n",
       "      <td>0</td>\n",
       "      <td>1</td>\n",
       "      <td>1</td>\n",
       "      <td>0</td>\n",
       "      <td>1</td>\n",
       "      <td>0</td>\n",
       "      <td>0</td>\n",
       "      <td>1</td>\n",
       "      <td>0</td>\n",
       "      <td>0</td>\n",
       "      <td>0</td>\n",
       "      <td>0</td>\n",
       "    </tr>\n",
       "  </tbody>\n",
       "</table>\n",
       "</div>"
      ],
      "text/plain": [
       "                                               Title  \\\n",
       "0  Expression of p53 and coexistence of HPV in pr...   \n",
       "1  Vitamin D status in pregnant Indian women acro...   \n",
       "2  [Identification of a functionally important di...   \n",
       "3  Multilayer capsules: a promising microencapsul...   \n",
       "4  Nanohydrogel with N,N'-bis(acryloyl)cystine cr...   \n",
       "\n",
       "                                        abstractText  \\\n",
       "0  Fifty-four paraffin embedded tissue sections f...   \n",
       "1  The present cross-sectional study was conducte...   \n",
       "2  The occurrence of individual amino acids and d...   \n",
       "3  In 1980, Lim and Sun introduced a microcapsule...   \n",
       "4  Substantially improved hydrogel particles base...   \n",
       "\n",
       "                                           meshMajor      pmid  \\\n",
       "0  ['DNA Probes, HPV', 'DNA, Viral', 'Female', 'H...   8549602   \n",
       "1  ['Adult', 'Alkaline Phosphatase', 'Breast Feed...  21736816   \n",
       "2  ['Amino Acid Sequence', 'Analgesics, Opioid', ...  19060934   \n",
       "3  ['Acrylic Resins', 'Alginates', 'Animals', 'Bi...  11426874   \n",
       "4  ['Antineoplastic Agents', 'Cell Proliferation'...  28323099   \n",
       "\n",
       "                                              meshid  \\\n",
       "0  [['D13.444.600.223.555', 'D27.505.259.750.600....   \n",
       "1  [['M01.060.116'], ['D08.811.277.352.650.035'],...   \n",
       "2  [['G02.111.570.060', 'L01.453.245.667.060'], [...   \n",
       "3  [['D05.750.716.822.111', 'D25.720.716.822.111'...   \n",
       "4  [['D27.505.954.248'], ['G04.161.750', 'G07.345...   \n",
       "\n",
       "                                            meshroot  A  B  C  D  E  F  G  H  \\\n",
       "0  ['Chemicals and Drugs [D]', 'Organisms [B]', '...  0  1  1  1  1  0  0  1   \n",
       "1  ['Named Groups [M]', 'Chemicals and Drugs [D]'...  0  1  1  1  1  1  1  0   \n",
       "2  ['Phenomena and Processes [G]', 'Information S...  1  1  0  1  1  0  1  0   \n",
       "3  ['Chemicals and Drugs [D]', 'Technology, Indus...  1  1  1  1  1  0  1  0   \n",
       "4  ['Chemicals and Drugs [D]', 'Phenomena and Pro...  1  1  0  1  1  0  1  0   \n",
       "\n",
       "   I  J  L  M  N  Z  \n",
       "0  0  0  0  0  0  0  \n",
       "1  1  1  0  1  1  1  \n",
       "2  0  0  1  0  0  0  \n",
       "3  0  1  0  0  0  0  \n",
       "4  0  1  0  0  0  0  "
      ]
     },
     "execution_count": 2,
     "metadata": {},
     "output_type": "execute_result"
    }
   ],
   "source": [
    "file_path = '/kaggle/input/pubmed-multilabel-text-classification/PubMed Multi Label Text Classification Dataset Processed.csv'\n",
    "data = pd.read_csv(file_path)\n",
    "\n",
    "print(\"Размер данных:\", data.shape)\n",
    "print(\"\\nПервые 5 строк:\")\n",
    "data.head()"
   ]
  },
  {
   "cell_type": "code",
   "execution_count": 3,
   "id": "fe1e68c2",
   "metadata": {
    "execution": {
     "iopub.execute_input": "2025-09-15T15:04:50.745902Z",
     "iopub.status.busy": "2025-09-15T15:04:50.745609Z",
     "iopub.status.idle": "2025-09-15T15:04:50.802706Z",
     "shell.execute_reply": "2025-09-15T15:04:50.801567Z"
    },
    "papermill": {
     "duration": 0.063576,
     "end_time": "2025-09-15T15:04:50.804268",
     "exception": false,
     "start_time": "2025-09-15T15:04:50.740692",
     "status": "completed"
    },
    "tags": []
   },
   "outputs": [
    {
     "name": "stdout",
     "output_type": "stream",
     "text": [
      "<class 'pandas.core.frame.DataFrame'>\n",
      "RangeIndex: 50000 entries, 0 to 49999\n",
      "Data columns (total 20 columns):\n",
      " #   Column        Non-Null Count  Dtype \n",
      "---  ------        --------------  ----- \n",
      " 0   Title         49998 non-null  object\n",
      " 1   abstractText  50000 non-null  object\n",
      " 2   meshMajor     50000 non-null  object\n",
      " 3   pmid          50000 non-null  int64 \n",
      " 4   meshid        50000 non-null  object\n",
      " 5   meshroot      50000 non-null  object\n",
      " 6   A             50000 non-null  int64 \n",
      " 7   B             50000 non-null  int64 \n",
      " 8   C             50000 non-null  int64 \n",
      " 9   D             50000 non-null  int64 \n",
      " 10  E             50000 non-null  int64 \n",
      " 11  F             50000 non-null  int64 \n",
      " 12  G             50000 non-null  int64 \n",
      " 13  H             50000 non-null  int64 \n",
      " 14  I             50000 non-null  int64 \n",
      " 15  J             50000 non-null  int64 \n",
      " 16  L             50000 non-null  int64 \n",
      " 17  M             50000 non-null  int64 \n",
      " 18  N             50000 non-null  int64 \n",
      " 19  Z             50000 non-null  int64 \n",
      "dtypes: int64(15), object(5)\n",
      "memory usage: 7.6+ MB\n"
     ]
    }
   ],
   "source": [
    "data.info()"
   ]
  },
  {
   "cell_type": "code",
   "execution_count": 4,
   "id": "a5803fc0",
   "metadata": {
    "execution": {
     "iopub.execute_input": "2025-09-15T15:04:50.813550Z",
     "iopub.status.busy": "2025-09-15T15:04:50.813216Z",
     "iopub.status.idle": "2025-09-15T15:04:50.974943Z",
     "shell.execute_reply": "2025-09-15T15:04:50.973942Z"
    },
    "papermill": {
     "duration": 0.168302,
     "end_time": "2025-09-15T15:04:50.976572",
     "exception": false,
     "start_time": "2025-09-15T15:04:50.808270",
     "status": "completed"
    },
    "tags": []
   },
   "outputs": [
    {
     "name": "stdout",
     "output_type": "stream",
     "text": [
      "Пропущенные значения:\n",
      "       Пропущенные значения  Процент пропусков\n",
      "Title                     2              0.004\n"
     ]
    }
   ],
   "source": [
    "missing_values = data.isnull().sum()\n",
    "missing_percentage = (data.isnull().sum() / len(data)) * 100\n",
    "\n",
    "missing_info = pd.DataFrame({\n",
    "    'Пропущенные значения': missing_values,\n",
    "    'Процент пропусков': missing_percentage\n",
    "})\n",
    "\n",
    "print(\"Пропущенные значения:\")\n",
    "print(missing_info[missing_info['Пропущенные значения'] > 0])"
   ]
  },
  {
   "cell_type": "markdown",
   "id": "a203fe5c",
   "metadata": {
    "papermill": {
     "duration": 0.003768,
     "end_time": "2025-09-15T15:04:50.984586",
     "exception": false,
     "start_time": "2025-09-15T15:04:50.980818",
     "status": "completed"
    },
    "tags": []
   },
   "source": [
    "Как видно, в датасете практически отсутствуют нулевые значения. За исключением двух строк, у которых отсутствуют заголовки. Удалим эти строки."
   ]
  },
  {
   "cell_type": "code",
   "execution_count": 5,
   "id": "6e8be61e",
   "metadata": {
    "execution": {
     "iopub.execute_input": "2025-09-15T15:04:50.994318Z",
     "iopub.status.busy": "2025-09-15T15:04:50.993445Z",
     "iopub.status.idle": "2025-09-15T15:04:51.037716Z",
     "shell.execute_reply": "2025-09-15T15:04:51.036473Z"
    },
    "papermill": {
     "duration": 0.050719,
     "end_time": "2025-09-15T15:04:51.039248",
     "exception": false,
     "start_time": "2025-09-15T15:04:50.988529",
     "status": "completed"
    },
    "tags": []
   },
   "outputs": [
    {
     "name": "stdout",
     "output_type": "stream",
     "text": [
      "Было строк: 50000\n",
      "Стало строк: 49998\n",
      "Удалено строк: 2\n"
     ]
    }
   ],
   "source": [
    "data_cleaned = data.dropna()\n",
    "\n",
    "print(f\"Было строк: {len(data)}\")\n",
    "print(f\"Стало строк: {len(data_cleaned)}\")\n",
    "print(f\"Удалено строк: {len(data) - len(data_cleaned)}\")"
   ]
  },
  {
   "cell_type": "markdown",
   "id": "59311ccb",
   "metadata": {
    "papermill": {
     "duration": 0.003859,
     "end_time": "2025-09-15T15:04:51.047561",
     "exception": false,
     "start_time": "2025-09-15T15:04:51.043702",
     "status": "completed"
    },
    "tags": []
   },
   "source": [
    "Теперь выполним анализ текста"
   ]
  },
  {
   "cell_type": "code",
   "execution_count": 6,
   "id": "115c066e",
   "metadata": {
    "execution": {
     "iopub.execute_input": "2025-09-15T15:04:51.057558Z",
     "iopub.status.busy": "2025-09-15T15:04:51.057187Z",
     "iopub.status.idle": "2025-09-15T15:04:57.437693Z",
     "shell.execute_reply": "2025-09-15T15:04:57.436585Z"
    },
    "papermill": {
     "duration": 6.388038,
     "end_time": "2025-09-15T15:04:57.439617",
     "exception": false,
     "start_time": "2025-09-15T15:04:51.051579",
     "status": "completed"
    },
    "tags": []
   },
   "outputs": [
    {
     "name": "stdout",
     "output_type": "stream",
     "text": [
      "Сравнение методов нормализации:\n",
      "\n",
      "Пример 1:\n",
      "Оригинал: Expression of p53 and coexistence of HPV in premalignant lesions and in cervical...\n",
      "Простая: expression p53 coexistence hpv premalignant lesions cervical cancer....\n",
      "\n",
      "Пример 2:\n",
      "Оригинал: Vitamin D status in pregnant Indian women across trimesters and different season...\n",
      "Простая: vitamin status pregnant indian women across trimesters different seasons its cor...\n"
     ]
    }
   ],
   "source": [
    "import re\n",
    "\n",
    "def simple_normalize_text(text):\n",
    "    \"\"\"\n",
    "    Упрощенная нормализация текста без NLTK\n",
    "    \"\"\"\n",
    "    if not isinstance(text, str):\n",
    "        return \"\"\n",
    "    \n",
    "    # Базовые стоп-слова\n",
    "    stop_words = {'the', 'and', 'of', 'to', 'in', 'a', 'an', 'is', 'are', 'was', 'were', \n",
    "                 'for', 'on', 'with', 'by', 'at', 'from', 'as', 'this', 'that', 'these', 'those'}\n",
    "    \n",
    "    # Приведение к нижнему регистру\n",
    "    text = text.lower()\n",
    "    \n",
    "    # Удаление специальных символов и цифр\n",
    "    #text = re.sub(r'[^a-zA-Z\\s]', ' ', text)\n",
    "    \n",
    "    # Удаление лишних пробелов\n",
    "    text = re.sub(r'\\s+', ' ', text).strip()\n",
    "    \n",
    "    # Разделение на слова и фильтрация\n",
    "    words = text.split()\n",
    "    filtered_words = [word for word in words if word not in stop_words and len(word) > 2]\n",
    "    \n",
    "    return ' '.join(filtered_words)\n",
    "\n",
    "# Быстрая нормализация\n",
    "data['simple_title'] = data['Title'].apply(simple_normalize_text)\n",
    "data['simple_abstract'] = data['abstractText'].apply(simple_normalize_text)\n",
    "\n",
    "# Покажем разницу\n",
    "print(\"Сравнение методов нормализации:\")\n",
    "for i in range(2):\n",
    "    print(f\"\\nПример {i+1}:\")\n",
    "    print(f\"Оригинал: {data['Title'].iloc[i][:80]}...\")\n",
    "    print(f\"Простая: {data['simple_title'].iloc[i][:80]}...\")"
   ]
  },
  {
   "cell_type": "code",
   "execution_count": 7,
   "id": "1d312284",
   "metadata": {
    "execution": {
     "iopub.execute_input": "2025-09-15T15:04:57.450190Z",
     "iopub.status.busy": "2025-09-15T15:04:57.449906Z",
     "iopub.status.idle": "2025-09-15T15:04:57.467482Z",
     "shell.execute_reply": "2025-09-15T15:04:57.466427Z"
    },
    "papermill": {
     "duration": 0.025053,
     "end_time": "2025-09-15T15:04:57.469339",
     "exception": false,
     "start_time": "2025-09-15T15:04:57.444286",
     "status": "completed"
    },
    "tags": []
   },
   "outputs": [
    {
     "data": {
      "text/html": [
       "<div>\n",
       "<style scoped>\n",
       "    .dataframe tbody tr th:only-of-type {\n",
       "        vertical-align: middle;\n",
       "    }\n",
       "\n",
       "    .dataframe tbody tr th {\n",
       "        vertical-align: top;\n",
       "    }\n",
       "\n",
       "    .dataframe thead th {\n",
       "        text-align: right;\n",
       "    }\n",
       "</style>\n",
       "<table border=\"1\" class=\"dataframe\">\n",
       "  <thead>\n",
       "    <tr style=\"text-align: right;\">\n",
       "      <th></th>\n",
       "      <th>Title</th>\n",
       "      <th>abstractText</th>\n",
       "      <th>meshMajor</th>\n",
       "      <th>pmid</th>\n",
       "      <th>meshid</th>\n",
       "      <th>meshroot</th>\n",
       "      <th>A</th>\n",
       "      <th>B</th>\n",
       "      <th>C</th>\n",
       "      <th>D</th>\n",
       "      <th>...</th>\n",
       "      <th>G</th>\n",
       "      <th>H</th>\n",
       "      <th>I</th>\n",
       "      <th>J</th>\n",
       "      <th>L</th>\n",
       "      <th>M</th>\n",
       "      <th>N</th>\n",
       "      <th>Z</th>\n",
       "      <th>simple_title</th>\n",
       "      <th>simple_abstract</th>\n",
       "    </tr>\n",
       "  </thead>\n",
       "  <tbody>\n",
       "    <tr>\n",
       "      <th>0</th>\n",
       "      <td>Expression of p53 and coexistence of HPV in pr...</td>\n",
       "      <td>Fifty-four paraffin embedded tissue sections f...</td>\n",
       "      <td>['DNA Probes, HPV', 'DNA, Viral', 'Female', 'H...</td>\n",
       "      <td>8549602</td>\n",
       "      <td>[['D13.444.600.223.555', 'D27.505.259.750.600....</td>\n",
       "      <td>['Chemicals and Drugs [D]', 'Organisms [B]', '...</td>\n",
       "      <td>0</td>\n",
       "      <td>1</td>\n",
       "      <td>1</td>\n",
       "      <td>1</td>\n",
       "      <td>...</td>\n",
       "      <td>0</td>\n",
       "      <td>1</td>\n",
       "      <td>0</td>\n",
       "      <td>0</td>\n",
       "      <td>0</td>\n",
       "      <td>0</td>\n",
       "      <td>0</td>\n",
       "      <td>0</td>\n",
       "      <td>expression p53 coexistence hpv premalignant le...</td>\n",
       "      <td>fifty-four paraffin embedded tissue sections p...</td>\n",
       "    </tr>\n",
       "    <tr>\n",
       "      <th>1</th>\n",
       "      <td>Vitamin D status in pregnant Indian women acro...</td>\n",
       "      <td>The present cross-sectional study was conducte...</td>\n",
       "      <td>['Adult', 'Alkaline Phosphatase', 'Breast Feed...</td>\n",
       "      <td>21736816</td>\n",
       "      <td>[['M01.060.116'], ['D08.811.277.352.650.035'],...</td>\n",
       "      <td>['Named Groups [M]', 'Chemicals and Drugs [D]'...</td>\n",
       "      <td>0</td>\n",
       "      <td>1</td>\n",
       "      <td>1</td>\n",
       "      <td>1</td>\n",
       "      <td>...</td>\n",
       "      <td>1</td>\n",
       "      <td>0</td>\n",
       "      <td>1</td>\n",
       "      <td>1</td>\n",
       "      <td>0</td>\n",
       "      <td>1</td>\n",
       "      <td>1</td>\n",
       "      <td>1</td>\n",
       "      <td>vitamin status pregnant indian women across tr...</td>\n",
       "      <td>present cross-sectional study conducted determ...</td>\n",
       "    </tr>\n",
       "    <tr>\n",
       "      <th>2</th>\n",
       "      <td>[Identification of a functionally important di...</td>\n",
       "      <td>The occurrence of individual amino acids and d...</td>\n",
       "      <td>['Amino Acid Sequence', 'Analgesics, Opioid', ...</td>\n",
       "      <td>19060934</td>\n",
       "      <td>[['G02.111.570.060', 'L01.453.245.667.060'], [...</td>\n",
       "      <td>['Phenomena and Processes [G]', 'Information S...</td>\n",
       "      <td>1</td>\n",
       "      <td>1</td>\n",
       "      <td>0</td>\n",
       "      <td>1</td>\n",
       "      <td>...</td>\n",
       "      <td>1</td>\n",
       "      <td>0</td>\n",
       "      <td>0</td>\n",
       "      <td>0</td>\n",
       "      <td>1</td>\n",
       "      <td>0</td>\n",
       "      <td>0</td>\n",
       "      <td>0</td>\n",
       "      <td>[identification functionally important dipepti...</td>\n",
       "      <td>occurrence individual amino acids dipeptide fr...</td>\n",
       "    </tr>\n",
       "    <tr>\n",
       "      <th>3</th>\n",
       "      <td>Multilayer capsules: a promising microencapsul...</td>\n",
       "      <td>In 1980, Lim and Sun introduced a microcapsule...</td>\n",
       "      <td>['Acrylic Resins', 'Alginates', 'Animals', 'Bi...</td>\n",
       "      <td>11426874</td>\n",
       "      <td>[['D05.750.716.822.111', 'D25.720.716.822.111'...</td>\n",
       "      <td>['Chemicals and Drugs [D]', 'Technology, Indus...</td>\n",
       "      <td>1</td>\n",
       "      <td>1</td>\n",
       "      <td>1</td>\n",
       "      <td>1</td>\n",
       "      <td>...</td>\n",
       "      <td>1</td>\n",
       "      <td>0</td>\n",
       "      <td>0</td>\n",
       "      <td>1</td>\n",
       "      <td>0</td>\n",
       "      <td>0</td>\n",
       "      <td>0</td>\n",
       "      <td>0</td>\n",
       "      <td>multilayer capsules: promising microencapsulat...</td>\n",
       "      <td>1980, lim sun introduced microcapsule coated a...</td>\n",
       "    </tr>\n",
       "    <tr>\n",
       "      <th>4</th>\n",
       "      <td>Nanohydrogel with N,N'-bis(acryloyl)cystine cr...</td>\n",
       "      <td>Substantially improved hydrogel particles base...</td>\n",
       "      <td>['Antineoplastic Agents', 'Cell Proliferation'...</td>\n",
       "      <td>28323099</td>\n",
       "      <td>[['D27.505.954.248'], ['G04.161.750', 'G07.345...</td>\n",
       "      <td>['Chemicals and Drugs [D]', 'Phenomena and Pro...</td>\n",
       "      <td>1</td>\n",
       "      <td>1</td>\n",
       "      <td>0</td>\n",
       "      <td>1</td>\n",
       "      <td>...</td>\n",
       "      <td>1</td>\n",
       "      <td>0</td>\n",
       "      <td>0</td>\n",
       "      <td>1</td>\n",
       "      <td>0</td>\n",
       "      <td>0</td>\n",
       "      <td>0</td>\n",
       "      <td>0</td>\n",
       "      <td>nanohydrogel n,n'-bis(acryloyl)cystine crossli...</td>\n",
       "      <td>substantially improved hydrogel particles base...</td>\n",
       "    </tr>\n",
       "  </tbody>\n",
       "</table>\n",
       "<p>5 rows × 22 columns</p>\n",
       "</div>"
      ],
      "text/plain": [
       "                                               Title  \\\n",
       "0  Expression of p53 and coexistence of HPV in pr...   \n",
       "1  Vitamin D status in pregnant Indian women acro...   \n",
       "2  [Identification of a functionally important di...   \n",
       "3  Multilayer capsules: a promising microencapsul...   \n",
       "4  Nanohydrogel with N,N'-bis(acryloyl)cystine cr...   \n",
       "\n",
       "                                        abstractText  \\\n",
       "0  Fifty-four paraffin embedded tissue sections f...   \n",
       "1  The present cross-sectional study was conducte...   \n",
       "2  The occurrence of individual amino acids and d...   \n",
       "3  In 1980, Lim and Sun introduced a microcapsule...   \n",
       "4  Substantially improved hydrogel particles base...   \n",
       "\n",
       "                                           meshMajor      pmid  \\\n",
       "0  ['DNA Probes, HPV', 'DNA, Viral', 'Female', 'H...   8549602   \n",
       "1  ['Adult', 'Alkaline Phosphatase', 'Breast Feed...  21736816   \n",
       "2  ['Amino Acid Sequence', 'Analgesics, Opioid', ...  19060934   \n",
       "3  ['Acrylic Resins', 'Alginates', 'Animals', 'Bi...  11426874   \n",
       "4  ['Antineoplastic Agents', 'Cell Proliferation'...  28323099   \n",
       "\n",
       "                                              meshid  \\\n",
       "0  [['D13.444.600.223.555', 'D27.505.259.750.600....   \n",
       "1  [['M01.060.116'], ['D08.811.277.352.650.035'],...   \n",
       "2  [['G02.111.570.060', 'L01.453.245.667.060'], [...   \n",
       "3  [['D05.750.716.822.111', 'D25.720.716.822.111'...   \n",
       "4  [['D27.505.954.248'], ['G04.161.750', 'G07.345...   \n",
       "\n",
       "                                            meshroot  A  B  C  D  ...  G  H  \\\n",
       "0  ['Chemicals and Drugs [D]', 'Organisms [B]', '...  0  1  1  1  ...  0  1   \n",
       "1  ['Named Groups [M]', 'Chemicals and Drugs [D]'...  0  1  1  1  ...  1  0   \n",
       "2  ['Phenomena and Processes [G]', 'Information S...  1  1  0  1  ...  1  0   \n",
       "3  ['Chemicals and Drugs [D]', 'Technology, Indus...  1  1  1  1  ...  1  0   \n",
       "4  ['Chemicals and Drugs [D]', 'Phenomena and Pro...  1  1  0  1  ...  1  0   \n",
       "\n",
       "   I  J  L  M  N  Z                                       simple_title  \\\n",
       "0  0  0  0  0  0  0  expression p53 coexistence hpv premalignant le...   \n",
       "1  1  1  0  1  1  1  vitamin status pregnant indian women across tr...   \n",
       "2  0  0  1  0  0  0  [identification functionally important dipepti...   \n",
       "3  0  1  0  0  0  0  multilayer capsules: promising microencapsulat...   \n",
       "4  0  1  0  0  0  0  nanohydrogel n,n'-bis(acryloyl)cystine crossli...   \n",
       "\n",
       "                                     simple_abstract  \n",
       "0  fifty-four paraffin embedded tissue sections p...  \n",
       "1  present cross-sectional study conducted determ...  \n",
       "2  occurrence individual amino acids dipeptide fr...  \n",
       "3  1980, lim sun introduced microcapsule coated a...  \n",
       "4  substantially improved hydrogel particles base...  \n",
       "\n",
       "[5 rows x 22 columns]"
      ]
     },
     "execution_count": 7,
     "metadata": {},
     "output_type": "execute_result"
    }
   ],
   "source": [
    "data.head()"
   ]
  },
  {
   "cell_type": "markdown",
   "id": "ffe95526",
   "metadata": {
    "papermill": {
     "duration": 0.004429,
     "end_time": "2025-09-15T15:04:57.478888",
     "exception": false,
     "start_time": "2025-09-15T15:04:57.474459",
     "status": "completed"
    },
    "tags": []
   },
   "source": [
    "Генерация TF-IDF признаков из нормализованного текста"
   ]
  },
  {
   "cell_type": "code",
   "execution_count": 8,
   "id": "87763f47",
   "metadata": {
    "execution": {
     "iopub.execute_input": "2025-09-15T15:04:57.491003Z",
     "iopub.status.busy": "2025-09-15T15:04:57.490162Z",
     "iopub.status.idle": "2025-09-15T15:05:04.920257Z",
     "shell.execute_reply": "2025-09-15T15:05:04.918991Z"
    },
    "papermill": {
     "duration": 7.43748,
     "end_time": "2025-09-15T15:05:04.922232",
     "exception": false,
     "start_time": "2025-09-15T15:04:57.484752",
     "status": "completed"
    },
    "tags": []
   },
   "outputs": [
    {
     "name": "stdout",
     "output_type": "stream",
     "text": [
      "\n",
      "=== ТОП-10 СЛОВ В ЗАГОЛОВКАХ ===\n",
      "patients: IDF=3.734\n",
      "study: IDF=3.828\n",
      "human: IDF=4.094\n",
      "cells: IDF=4.115\n",
      "cell: IDF=4.163\n",
      "analysis: IDF=4.250\n",
      "effects: IDF=4.291\n",
      "cancer: IDF=4.324\n",
      "effect: IDF=4.355\n",
      "treatment: IDF=4.382\n",
      "\n",
      "=== ТОП-10 РЕДКИХ СЛОВ В ЗАГОЛОВКАХ ===\n",
      "peg: IDF=9.181\n",
      "amphotericin: IDF=9.181\n",
      "sugars: IDF=9.181\n",
      "detachment: IDF=9.181\n",
      "phenylalanine: IDF=9.181\n",
      "yl: IDF=9.181\n",
      "cannabis: IDF=9.181\n",
      "music: IDF=9.255\n",
      "psa: IDF=9.255\n",
      "db: IDF=9.422\n"
     ]
    }
   ],
   "source": [
    "from sklearn.feature_extraction.text import TfidfVectorizer\n",
    "from scipy.sparse import hstack\n",
    "\n",
    "# TF-IDF для заголовков и аннотаций\n",
    "title_vectorizer = TfidfVectorizer(max_features=5000)\n",
    "abstract_vectorizer = TfidfVectorizer(max_features=10000)\n",
    "\n",
    "X_title = title_vectorizer.fit_transform(data['simple_title'])\n",
    "X_abstract = abstract_vectorizer.fit_transform(data['simple_abstract'])\n",
    "\n",
    "# Объединение признаков\n",
    "X = hstack([X_title, X_abstract])\n",
    "\n",
    "print(\"\\n=== ТОП-10 СЛОВ В ЗАГОЛОВКАХ ===\")\n",
    "feature_names = title_vectorizer.get_feature_names_out()\n",
    "idf_scores = title_vectorizer.idf_\n",
    "top_indices = idf_scores.argsort()[:10]  # Самые частые слова\n",
    "for idx in top_indices:\n",
    "    print(f\"{feature_names[idx]}: IDF={idf_scores[idx]:.3f}\")\n",
    "\n",
    "print(\"\\n=== ТОП-10 РЕДКИХ СЛОВ В ЗАГОЛОВКАХ ===\")\n",
    "top_indices = idf_scores.argsort()[-10:]  # Самые редкие слова\n",
    "for idx in top_indices:\n",
    "    print(f\"{feature_names[idx]}: IDF={idf_scores[idx]:.3f}\")"
   ]
  },
  {
   "cell_type": "markdown",
   "id": "577e816f",
   "metadata": {
    "papermill": {
     "duration": 0.00445,
     "end_time": "2025-09-15T15:05:04.931514",
     "exception": false,
     "start_time": "2025-09-15T15:05:04.927064",
     "status": "completed"
    },
    "tags": []
   },
   "source": [
    "Отбор признаков"
   ]
  },
  {
   "cell_type": "code",
   "execution_count": 9,
   "id": "460fd987",
   "metadata": {
    "execution": {
     "iopub.execute_input": "2025-09-15T15:05:04.941857Z",
     "iopub.status.busy": "2025-09-15T15:05:04.941534Z",
     "iopub.status.idle": "2025-09-15T15:05:05.553114Z",
     "shell.execute_reply": "2025-09-15T15:05:05.552103Z"
    },
    "papermill": {
     "duration": 0.618643,
     "end_time": "2025-09-15T15:05:05.554685",
     "exception": false,
     "start_time": "2025-09-15T15:05:04.936042",
     "status": "completed"
    },
    "tags": []
   },
   "outputs": [
    {
     "name": "stdout",
     "output_type": "stream",
     "text": [
      "После отбора: 10000 признаков для целевой метки A\n"
     ]
    }
   ],
   "source": [
    "from sklearn.feature_selection import SelectKBest, chi2\n",
    "\n",
    "\n",
    "y = data[['A', 'B', 'C', 'D', 'E', 'F', 'G', 'H', 'I', 'J', 'L', 'M', 'N', 'Z']]\n",
    "y_target = y['A']\n",
    "\n",
    "# Отбор top-K наиболее информативных признаков\n",
    "k_best = SelectKBest(chi2, k=10000)\n",
    "X_selected = k_best.fit_transform(X, y_target)\n",
    "\n",
    "print(f\"После отбора: {X_selected.shape[1]} признаков для целевой метки A\")"
   ]
  },
  {
   "cell_type": "markdown",
   "id": "8cac0807",
   "metadata": {
    "papermill": {
     "duration": 0.004295,
     "end_time": "2025-09-15T15:05:05.563476",
     "exception": false,
     "start_time": "2025-09-15T15:05:05.559181",
     "status": "completed"
    },
    "tags": []
   },
   "source": [
    "Разбиение данных на train/OOS/OOT"
   ]
  },
  {
   "cell_type": "code",
   "execution_count": 10,
   "id": "ffb12e23",
   "metadata": {
    "execution": {
     "iopub.execute_input": "2025-09-15T15:05:05.573962Z",
     "iopub.status.busy": "2025-09-15T15:05:05.573637Z",
     "iopub.status.idle": "2025-09-15T15:05:05.638043Z",
     "shell.execute_reply": "2025-09-15T15:05:05.636875Z"
    },
    "papermill": {
     "duration": 0.071905,
     "end_time": "2025-09-15T15:05:05.639886",
     "exception": false,
     "start_time": "2025-09-15T15:05:05.567981",
     "status": "completed"
    },
    "tags": []
   },
   "outputs": [
    {
     "name": "stdout",
     "output_type": "stream",
     "text": [
      "Train: (30000, 10000), OOS: (10000, 10000), OOT: (10000, 10000)\n"
     ]
    }
   ],
   "source": [
    "from sklearn.model_selection import train_test_split\n",
    "\n",
    "X_temp, X_oot, y_temp, y_oot = train_test_split(X_selected, y, test_size=0.2, shuffle=False)\n",
    "\n",
    "X_train, X_oos, y_train, y_oos = train_test_split(X_temp, y_temp, test_size=0.25, random_state=42)\n",
    "\n",
    "print(f\"Train: {X_train.shape}, OOS: {X_oos.shape}, OOT: {X_oot.shape}\")"
   ]
  },
  {
   "cell_type": "markdown",
   "id": "b340c787",
   "metadata": {
    "papermill": {
     "duration": 0.004281,
     "end_time": "2025-09-15T15:05:05.648791",
     "exception": false,
     "start_time": "2025-09-15T15:05:05.644510",
     "status": "completed"
    },
    "tags": []
   },
   "source": [
    " Обучение логистической регрессии"
   ]
  },
  {
   "cell_type": "code",
   "execution_count": 11,
   "id": "87492876",
   "metadata": {
    "execution": {
     "iopub.execute_input": "2025-09-15T15:05:05.659291Z",
     "iopub.status.busy": "2025-09-15T15:05:05.658985Z",
     "iopub.status.idle": "2025-09-15T15:05:22.468122Z",
     "shell.execute_reply": "2025-09-15T15:05:22.467014Z"
    },
    "papermill": {
     "duration": 16.816729,
     "end_time": "2025-09-15T15:05:22.469936",
     "exception": false,
     "start_time": "2025-09-15T15:05:05.653207",
     "status": "completed"
    },
    "tags": []
   },
   "outputs": [
    {
     "name": "stdout",
     "output_type": "stream",
     "text": [
      "\n",
      "OOS результаты:\n",
      "              precision    recall  f1-score   support\n",
      "\n",
      "           0       0.81      0.77      0.79      4583\n",
      "           1       0.95      0.99      0.97      9270\n",
      "           2       0.88      0.83      0.85      5269\n",
      "           3       0.89      0.89      0.89      6111\n",
      "           4       0.81      0.96      0.88      7842\n",
      "           5       0.86      0.60      0.71      1797\n",
      "           6       0.82      0.89      0.85      6680\n",
      "           7       0.61      0.13      0.21      1195\n",
      "           8       0.75      0.44      0.56      1133\n",
      "           9       0.74      0.25      0.37      1104\n",
      "          10       0.74      0.35      0.47      1507\n",
      "          11       0.87      0.87      0.87      4246\n",
      "          12       0.81      0.75      0.78      4609\n",
      "          13       0.79      0.57      0.66      1612\n",
      "\n",
      "   micro avg       0.85      0.82      0.84     56958\n",
      "   macro avg       0.81      0.66      0.71     56958\n",
      "weighted avg       0.85      0.82      0.82     56958\n",
      " samples avg       0.85      0.83      0.83     56958\n",
      "\n",
      "\n",
      "OOT результаты:\n",
      "              precision    recall  f1-score   support\n",
      "\n",
      "           0       0.82      0.77      0.79      4739\n",
      "           1       0.95      1.00      0.97      9318\n",
      "           2       0.88      0.84      0.86      5308\n",
      "           3       0.91      0.90      0.90      6293\n",
      "           4       0.81      0.96      0.88      7829\n",
      "           5       0.86      0.61      0.71      1759\n",
      "           6       0.81      0.90      0.85      6689\n",
      "           7       0.68      0.13      0.22      1257\n",
      "           8       0.74      0.41      0.53      1097\n",
      "           9       0.77      0.27      0.40      1069\n",
      "          10       0.76      0.35      0.47      1474\n",
      "          11       0.88      0.86      0.87      4239\n",
      "          12       0.83      0.75      0.79      4545\n",
      "          13       0.78      0.55      0.65      1526\n",
      "\n",
      "   micro avg       0.86      0.82      0.84     57142\n",
      "   macro avg       0.82      0.66      0.71     57142\n",
      "weighted avg       0.85      0.82      0.82     57142\n",
      " samples avg       0.86      0.83      0.83     57142\n",
      "\n"
     ]
    },
    {
     "name": "stderr",
     "output_type": "stream",
     "text": [
      "/usr/local/lib/python3.11/dist-packages/sklearn/metrics/_classification.py:1344: UndefinedMetricWarning: Recall and F-score are ill-defined and being set to 0.0 in samples with no true labels. Use `zero_division` parameter to control this behavior.\n",
      "  _warn_prf(average, modifier, msg_start, len(result))\n",
      "/usr/local/lib/python3.11/dist-packages/sklearn/metrics/_classification.py:1344: UndefinedMetricWarning: Recall and F-score are ill-defined and being set to 0.0 in samples with no true labels. Use `zero_division` parameter to control this behavior.\n",
      "  _warn_prf(average, modifier, msg_start, len(result))\n"
     ]
    }
   ],
   "source": [
    "from sklearn.multiclass import OneVsRestClassifier\n",
    "from sklearn.linear_model import LogisticRegression\n",
    "from sklearn.metrics import classification_report\n",
    "\n",
    "# Создаем multi-label модель\n",
    "model = OneVsRestClassifier(\n",
    "    LogisticRegression(max_iter=1000, random_state=42, n_jobs=-1)\n",
    ")\n",
    "\n",
    "model.fit(X_train, y_train)\n",
    "\n",
    "# Предсказания\n",
    "for name, X_val, y_val in [('OOS', X_oos, y_oos), ('OOT', X_oot, y_oot)]:\n",
    "    y_pred = model.predict(X_val)\n",
    "    print(f\"\\n{name} результаты:\")\n",
    "    print(classification_report(y_val, y_pred))"
   ]
  },
  {
   "cell_type": "markdown",
   "id": "226545da",
   "metadata": {
    "papermill": {
     "duration": 0.004448,
     "end_time": "2025-09-15T15:05:22.479499",
     "exception": false,
     "start_time": "2025-09-15T15:05:22.475051",
     "status": "completed"
    },
    "tags": []
   },
   "source": [
    "Модель логистической регрессии демонстрирует высокую эффективность для multi-label классификации медицинских статей с общим Micro F1-score 0.84. Результаты свидетельствует о стабильности модели и отсутствии временного дрейфа данных."
   ]
  },
  {
   "cell_type": "code",
   "execution_count": null,
   "id": "caca32a6",
   "metadata": {
    "papermill": {
     "duration": 0.004383,
     "end_time": "2025-09-15T15:05:22.488522",
     "exception": false,
     "start_time": "2025-09-15T15:05:22.484139",
     "status": "completed"
    },
    "tags": []
   },
   "outputs": [],
   "source": []
  }
 ],
 "metadata": {
  "kaggle": {
   "accelerator": "none",
   "dataSources": [
    {
     "datasetId": 2312112,
     "sourceId": 3894051,
     "sourceType": "datasetVersion"
    }
   ],
   "dockerImageVersionId": 31089,
   "isGpuEnabled": false,
   "isInternetEnabled": false,
   "language": "python",
   "sourceType": "notebook"
  },
  "kernelspec": {
   "display_name": "Python 3",
   "language": "python",
   "name": "python3"
  },
  "language_info": {
   "codemirror_mode": {
    "name": "ipython",
    "version": 3
   },
   "file_extension": ".py",
   "mimetype": "text/x-python",
   "name": "python",
   "nbconvert_exporter": "python",
   "pygments_lexer": "ipython3",
   "version": "3.11.13"
  },
  "papermill": {
   "default_parameters": {},
   "duration": 47.39085,
   "end_time": "2025-09-15T15:05:25.111849",
   "environment_variables": {},
   "exception": null,
   "input_path": "__notebook__.ipynb",
   "output_path": "__notebook__.ipynb",
   "parameters": {},
   "start_time": "2025-09-15T15:04:37.720999",
   "version": "2.6.0"
  }
 },
 "nbformat": 4,
 "nbformat_minor": 5
}
